{
 "cells": [
  {
   "cell_type": "code",
   "execution_count": null,
   "id": "31ad099c",
   "metadata": {},
   "outputs": [],
   "source": [
    "import numpy as np # linear algebra\n",
    "import matplotlib.pyplot as plt\n",
    "import pandas as pd\n",
    "\n",
    "def plot_series_on_axis(slope,intercept,max_x,step,series_label,series_color, ax):\n",
    "    x = np.linspace(0,max_x,500)\n",
    "    y = slope*x+intercept\n",
    "    ax.plot(x, y, series_color, label=series_label)\n",
    "    return pd.DataFrame({\"x\":x.tolist(),\"y\":y.tolist()})\n",
    "\n",
    "def plot_pair(full_time_rate,full_time_fee, locum_rate, locum_fee,hours, ax):\n",
    "    full_time_data = plot_series_on_axis(full_time_rate,full_time_fee,hours,1,\"full-time\",'r',ax)\n",
    "    locum_data = plot_series_on_axis(locum_rate,locum_fee,hours,1,\"locum\",'-b',ax)\n",
    "    intersection=get_intersection(full_time_rate,full_time_fee,locum_rate,locum_fee)\n",
    "    ax.set_xlabel(f'Hours ({hours}) - Intersection {intersection}', color='#1C2833')\n",
    "    ax.set_ylabel(f'Cost (ft_fee=\\${full_time_fee})', color='#1C2833')\n",
    "    ax.set_title(f'Full-Time(\\${full_time_rate}/hour) vs Locum Costs(\\${locum_rate}/hour)')\n",
    "    ax.legend(loc=\"upper left\")\n",
    "\n",
    "def get_intersection(slope1, intercept1, slope2, intercept2):\n",
    "    return abs((intercept2-intercept1) / (slope2-slope1))\n",
    "\n",
    "ft_rate = input('Enter the full time employee hourly rate ($) = ')\n",
    "ft_rate = int(ft_rate)\n",
    "\n",
    "ft_fee = input('Enter the full time employee onboarding fee ($) = ')\n",
    "ft_fee = int(ft_fee)\n",
    "\n",
    "l_rate = input('Enter the locum employee hourly rate ($) = ')\n",
    "l_rate = int(l_rate)\n",
    "l_fee = 0\n",
    "\n",
    "\n",
    "hours_flat = 1000 # 10 weeks 50/hour week average for anesthesiology\n",
    "\n",
    "fig, ax_ex = plt.subplots(1) \n",
    "plot_pair(ft_rate, ft_fee, l_rate, l_fee, hours_flat, ax_ex)\n",
    "plt.show()"
   ]
  }
 ],
 "metadata": {
  "kernelspec": {
   "display_name": "Python 3 (ipykernel)",
   "language": "python",
   "name": "python3"
  },
  "language_info": {
   "codemirror_mode": {
    "name": "ipython",
    "version": 3
   },
   "file_extension": ".py",
   "mimetype": "text/x-python",
   "name": "python",
   "nbconvert_exporter": "python",
   "pygments_lexer": "ipython3",
   "version": "3.9.12"
  }
 },
 "nbformat": 4,
 "nbformat_minor": 5
}
